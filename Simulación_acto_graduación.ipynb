{
  "nbformat": 4,
  "nbformat_minor": 0,
  "metadata": {
    "colab": {
      "provenance": [],
      "collapsed_sections": [
        "mYVzFxj3OuCJ"
      ]
    },
    "kernelspec": {
      "name": "python3",
      "display_name": "Python 3"
    },
    "language_info": {
      "name": "python"
    }
  },
  "cells": [
    {
      "cell_type": "markdown",
      "source": [
        "# Simulación acto graduación\n"
      ],
      "metadata": {
        "id": "NkTnlV4Esu0l"
      }
    },
    {
      "cell_type": "markdown",
      "source": [
        "\n",
        "\n",
        "Listado de las personas que van a desfilar,\n",
        "\n",
        "tiempos,\n",
        "\n",
        "asiento,\n",
        "\n",
        "si no va la persona,\n",
        "\n",
        "tiempo total de la graduación, etc..\n",
        "\n",
        "\n"
      ],
      "metadata": {
        "id": "KKdAZOSDsk2e"
      }
    },
    {
      "cell_type": "markdown",
      "source": [
        "> # Importar libreria"
      ],
      "metadata": {
        "id": "mYVzFxj3OuCJ"
      }
    },
    {
      "cell_type": "code",
      "source": [
        "# install Pint if necessary\n",
        "try:\n",
        "    import pint\n",
        "except ImportError:\n",
        "    !pip install pint\n",
        "\n",
        "# download modsim.py if necessary\n",
        "from os.path import basename, exists\n",
        "\n",
        "def download(url):\n",
        "    filename = basename(url)\n",
        "    if not exists(filename):\n",
        "        from urllib.request import urlretrieve\n",
        "        local, _ = urlretrieve(url, filename)\n",
        "        print('Downloaded ' + local)\n",
        "download('https://raw.githubusercontent.com/AllenDowney/' +\n",
        "         'ModSimPy/master/modsim.py')\n"
      ],
      "metadata": {
        "id": "g7C3UepmzjFE"
      },
      "execution_count": 156,
      "outputs": []
    },
    {
      "cell_type": "code",
      "source": [
        "# import functions from modsim\n",
        "from modsim import *\n",
        "#import random\n",
        "import random as r\n",
        "\n",
        "from numpy import *"
      ],
      "metadata": {
        "id": "v9vyiWY6dK4g"
      },
      "execution_count": 157,
      "outputs": []
    },
    {
      "cell_type": "markdown",
      "source": [
        "> # Código\n",
        "---"
      ],
      "metadata": {
        "id": "TAUHJ3YQBQYI"
      }
    },
    {
      "cell_type": "code",
      "source": [
        "poblacionEst = r.randint(500,801)"
      ],
      "metadata": {
        "id": "RxGCjeBpQ4DC"
      },
      "execution_count": 158,
      "outputs": []
    },
    {
      "cell_type": "code",
      "source": [
        "import random as r"
      ],
      "metadata": {
        "id": "bW3fNCFWRz_b"
      },
      "execution_count": 159,
      "outputs": []
    },
    {
      "cell_type": "code",
      "source": [
        "system = System(tiempo_total = 0,\n",
        "                poblacion = int(poblacionEst - poblacionEst * 0.02)\n",
        "                )\n",
        "\n",
        "print(system.poblacion)"
      ],
      "metadata": {
        "colab": {
          "base_uri": "https://localhost:8080/"
        },
        "id": "Xe-vbTkTBlve",
        "outputId": "7cbc8c80-aac9-40c8-8db4-9a2b00c00586"
      },
      "execution_count": 160,
      "outputs": [
        {
          "output_type": "stream",
          "name": "stdout",
          "text": [
            "609\n"
          ]
        }
      ]
    },
    {
      "cell_type": "code",
      "source": [
        "t_total = system.tiempo_total"
      ],
      "metadata": {
        "id": "46VInvVoc4ry"
      },
      "execution_count": 161,
      "outputs": []
    },
    {
      "cell_type": "code",
      "source": [
        "diaUno = round(system.poblacion * 0.45)\n",
        "diaDos = round(system.poblacion * 0.55)\n",
        "print(diaUno, diaDos)"
      ],
      "metadata": {
        "colab": {
          "base_uri": "https://localhost:8080/"
        },
        "id": "m4ahgE7XdEks",
        "outputId": "3a2e9447-06b7-491b-b57e-6aa0bab97d43"
      },
      "execution_count": 162,
      "outputs": [
        {
          "output_type": "stream",
          "name": "stdout",
          "text": [
            "274 335\n"
          ]
        }
      ]
    },
    {
      "cell_type": "code",
      "source": [
        "def varEstado():\n",
        "  import random as r\n",
        "  state = State(apertura = r.randint(10, 15), desfile_autoridades = r.randint(4, 11),\n",
        "                himnos = r.randint(6, 8), rectoria_palabras = r.randint(20, 40),\n",
        "                juramento = 2,\n",
        "                discurso_egresados = r.randint(5,8),\n",
        "                himnoUnphu = 3,\n",
        "                salida = r.randint(6, 11)\n",
        "                )\n",
        "  return state"
      ],
      "metadata": {
        "id": "bQtHPiRwfF4T"
      },
      "execution_count": 163,
      "outputs": []
    },
    {
      "cell_type": "code",
      "source": [
        "def varEntrega():\n",
        "  import random as r\n",
        "  state = State(entregaDiplomas = r.uniform(0.03, 0.30),\n",
        "                premios_entregas = r.randint(15, 21)\n",
        "                )\n",
        "  return state"
      ],
      "metadata": {
        "id": "iUwKWpZa0PXz"
      },
      "execution_count": 164,
      "outputs": []
    },
    {
      "cell_type": "code",
      "source": [
        "def run_simulation(poblacion):\n",
        "  s = varEstado()\n",
        "  z = varEntrega()\n",
        "  faseInicial = s.apertura + s.desfile_autoridades + s.himnos + s.rectoria_palabras\n",
        "\n",
        "  results = TimeSeries()\n",
        "  results[t_total] = poblacion\n",
        "  results[faseInicial] = poblacion\n",
        "\n",
        "  count = 0\n",
        "  i = faseInicial\n",
        "  graduadosFinal = poblacion\n",
        "\n",
        "  while count < poblacion:\n",
        "    i += z.entregaDiplomas\n",
        "    graduadosFinal -= 1\n",
        "    results[i] = graduadosFinal\n",
        "    count += 1\n",
        "\n",
        "  results[i + s.juramento] = 0\n",
        "\n",
        "  import random as r\n",
        "  count = 0\n",
        "  p0 = poblacion * r.uniform(0.05, 0.08)\n",
        "\n",
        "  while count < poblacion:\n",
        "    i += z.entregaDiplomas\n",
        "    p0 -= 1\n",
        "    results[i] = 0\n",
        "    count += 1\n",
        "\n",
        "  results[i + s.discurso_egresados] = graduadosFinal\n",
        "  results[i + s.himnoUnphu] = graduadosFinal\n",
        "  results[i + s.salida ] = graduadosFinal\n",
        "\n",
        "  return round(results)"
      ],
      "metadata": {
        "id": "S4jF2WGRebAp"
      },
      "execution_count": 165,
      "outputs": []
    },
    {
      "cell_type": "code",
      "source": [
        "r = run_simulation(diaUno)\n",
        "r2 = run_simulation(diaDos)\n",
        "print(r)"
      ],
      "metadata": {
        "colab": {
          "base_uri": "https://localhost:8080/"
        },
        "id": "Y4hK_en4N947",
        "outputId": "927bced8-fb3c-4084-c309-55700f5ce14a"
      },
      "execution_count": 267,
      "outputs": [
        {
          "output_type": "stream",
          "name": "stdout",
          "text": [
            "Time\n",
            "0.000000      274\n",
            "72.000000     274\n",
            "72.207626     273\n",
            "72.415253     272\n",
            "72.622879     271\n",
            "             ... \n",
            "185.364010      0\n",
            "185.571637      0\n",
            "185.779263      0\n",
            "193.779263      0\n",
            "188.779263      0\n",
            "Name: Quantity, Length: 553, dtype: int64\n"
          ]
        }
      ]
    },
    {
      "cell_type": "code",
      "source": [
        "r.plot(color='green', label='Dia 1', style = ':' )\n",
        "r2.plot(color='blue', label='Dia 2', style = ':' )\n",
        "decorate(title= 'Simulación Graduación',\n",
        "             xlabel = 'Tiempo (Minutos)',\n",
        "             ylabel = 'Cantidad De Estudiantes Recibiendo Diplomas' )"
      ],
      "metadata": {
        "colab": {
          "base_uri": "https://localhost:8080/",
          "height": 309
        },
        "id": "b2WuXw7FPq2n",
        "outputId": "7ef6bf8c-af4e-4f57-8729-46d55778d127"
      },
      "execution_count": 266,
      "outputs": [
        {
          "output_type": "display_data",
          "data": {
            "text/plain": [
              "<Figure size 450x300 with 1 Axes>"
            ],
            "image/png": "[encoded data removed]"
          },
          "metadata": {}
        }
      ]
    },
    {
      "cell_type": "code",
      "source": [
        "def minutos_hora(x):\n",
        "  import math\n",
        "  conversion = round(x.index[-1] / 60, 2)\n",
        "  parte_decimal, parte_entera = math.modf(conversion)\n",
        "\n",
        "  return \"Horas: \" + str(int(parte_entera)) + \"\\tMinutos: \" + str(int(parte_decimal * 100))"
      ],
      "metadata": {
        "id": "w87N0tTxYNU4"
      },
      "execution_count": 264,
      "outputs": []
    },
    {
      "cell_type": "code",
      "source": [
        "print(\"Duración graduación día 1 - \" + minutos_hora(r))\n",
        "print(\"Duración graduación día 2 - \" + minutos_hora(r2))"
      ],
      "metadata": {
        "colab": {
          "base_uri": "https://localhost:8080/"
        },
        "id": "X2DMXgXIbWUo",
        "outputId": "fa0e3de9-f0c3-404b-f147-f41a51595d73"
      },
      "execution_count": 265,
      "outputs": [
        {
          "output_type": "stream",
          "name": "stdout",
          "text": [
            "Duración graduación día 1 - Horas: 2\tMinutos: 95\n",
            "Duración graduación día 2 - Horas: 3\tMinutos: 33\n"
          ]
        }
      ]
    }
  ]
}