{
  "nbformat": 4,
  "nbformat_minor": 0,
  "metadata": {
    "colab": {
      "provenance": [],
      "collapsed_sections": [
        "mYVzFxj3OuCJ"
      ]
    },
    "kernelspec": {
      "name": "python3",
      "display_name": "Python 3"
    },
    "language_info": {
      "name": "python"
    }
  },
  "cells": [
    {
      "cell_type": "markdown",
      "source": [
        "# Simulación acto graduación\n"
      ],
      "metadata": {
        "id": "NkTnlV4Esu0l"
      }
    },
    {
      "cell_type": "markdown",
      "source": [
        "> # Importar libreria"
      ],
      "metadata": {
        "id": "mYVzFxj3OuCJ"
      }
    },
    {
      "cell_type": "code",
      "source": [
        "# install Pint if necessary\n",
        "try:\n",
        "    import pint\n",
        "except ImportError:\n",
        "    !pip install pint\n",
        "\n",
        "# download modsim.py if necessary\n",
        "from os.path import basename, exists\n",
        "\n",
        "def download(url):\n",
        "    filename = basename(url)\n",
        "    if not exists(filename):\n",
        "        from urllib.request import urlretrieve\n",
        "        local, _ = urlretrieve(url, filename)\n",
        "        print('Downloaded ' + local)\n",
        "download('https://raw.githubusercontent.com/AllenDowney/' +\n",
        "         'ModSimPy/master/modsim.py')\n"
      ],
      "metadata": {
        "id": "g7C3UepmzjFE"
      },
      "execution_count": 297,
      "outputs": []
    },
    {
      "cell_type": "code",
      "source": [
        "# import functions from modsim\n",
        "from modsim import *\n",
        "#import random\n",
        "import random as r\n",
        "\n",
        "from numpy import *"
      ],
      "metadata": {
        "id": "v9vyiWY6dK4g"
      },
      "execution_count": 298,
      "outputs": []
    },
    {
      "cell_type": "markdown",
      "source": [
        "> # Código\n",
        "---"
      ],
      "metadata": {
        "id": "TAUHJ3YQBQYI"
      }
    },
    {
      "cell_type": "code",
      "source": [
        "poblacionEst = r.randint(500,801)"
      ],
      "metadata": {
        "id": "RxGCjeBpQ4DC"
      },
      "execution_count": 299,
      "outputs": []
    },
    {
      "cell_type": "code",
      "source": [
        "import random as r"
      ],
      "metadata": {
        "id": "bW3fNCFWRz_b"
      },
      "execution_count": 300,
      "outputs": []
    },
    {
      "cell_type": "code",
      "source": [
        "system = System(tiempo_total = 0,\n",
        "                poblacion = int(poblacionEst - poblacionEst * 0.02)\n",
        "                )\n",
        "\n",
        "print(system.poblacion)"
      ],
      "metadata": {
        "colab": {
          "base_uri": "https://localhost:8080/"
        },
        "id": "Xe-vbTkTBlve",
        "outputId": "db63779e-58eb-44b1-90fd-0cf6c860fa8c"
      },
      "execution_count": 301,
      "outputs": [
        {
          "output_type": "stream",
          "name": "stdout",
          "text": [
            "662\n"
          ]
        }
      ]
    },
    {
      "cell_type": "code",
      "source": [
        "t_total = system.tiempo_total"
      ],
      "metadata": {
        "id": "46VInvVoc4ry"
      },
      "execution_count": 302,
      "outputs": []
    },
    {
      "cell_type": "code",
      "source": [
        "diaUno = round(system.poblacion * 0.70)\n",
        "diaDos = round(system.poblacion * 0.30)\n",
        "print(diaUno, diaDos)"
      ],
      "metadata": {
        "colab": {
          "base_uri": "https://localhost:8080/"
        },
        "id": "m4ahgE7XdEks",
        "outputId": "fe10872b-0bdc-40ad-9e3c-ee8b74a5c64b"
      },
      "execution_count": 303,
      "outputs": [
        {
          "output_type": "stream",
          "name": "stdout",
          "text": [
            "463 199\n"
          ]
        }
      ]
    },
    {
      "cell_type": "code",
      "source": [
        "def varEstado():\n",
        "  import random as r\n",
        "  state = State(apertura = r.randint(10, 15), desfile_autoridades = r.randint(4, 11),\n",
        "                himnos = r.randint(6, 8), rectoria_palabras = r.randint(20, 40),\n",
        "                juramento = 2,\n",
        "                discurso_egresados = r.randint(5,8),\n",
        "                himnoUniversidad = 3,\n",
        "                salida = r.randint(6, 11)\n",
        "                )\n",
        "  return state"
      ],
      "metadata": {
        "id": "bQtHPiRwfF4T"
      },
      "execution_count": 304,
      "outputs": []
    },
    {
      "cell_type": "code",
      "source": [
        "def varEntrega():\n",
        "  import random as r\n",
        "  state = State(entregaDiplomas = r.uniform(0.03, 0.30),\n",
        "                premios_entregas = r.randint(15, 21)\n",
        "                )\n",
        "  return state"
      ],
      "metadata": {
        "id": "iUwKWpZa0PXz"
      },
      "execution_count": 305,
      "outputs": []
    },
    {
      "cell_type": "code",
      "source": [
        "def run_simulation(poblacion):\n",
        "  s = varEstado()\n",
        "  z = varEntrega()\n",
        "  faseInicial = s.apertura + s.desfile_autoridades + s.himnos + s.rectoria_palabras\n",
        "\n",
        "  results = TimeSeries()\n",
        "  results[t_total] = poblacion\n",
        "  results[faseInicial] = poblacion\n",
        "\n",
        "  count = 0\n",
        "  i = faseInicial\n",
        "  graduadosFinal = poblacion\n",
        "\n",
        "  while count < poblacion:\n",
        "    i += z.entregaDiplomas\n",
        "    graduadosFinal -= 1\n",
        "    results[i] = graduadosFinal\n",
        "    count += 1\n",
        "\n",
        "  results[i + s.juramento] = 0\n",
        "\n",
        "  import random as r\n",
        "  count = 0\n",
        "  p0 = poblacion * r.uniform(0.05, 0.08)\n",
        "\n",
        "  while count < poblacion:\n",
        "    i += z.entregaDiplomas\n",
        "    p0 -= 1\n",
        "    results[i] = 0\n",
        "    count += 1\n",
        "\n",
        "  results[i + s.discurso_egresados] = graduadosFinal\n",
        "  results[i + s.himnoUniversidad] = graduadosFinal\n",
        "  results[i + s.salida ] = graduadosFinal\n",
        "\n",
        "  return round(results)"
      ],
      "metadata": {
        "id": "S4jF2WGRebAp"
      },
      "execution_count": 306,
      "outputs": []
    },
    {
      "cell_type": "code",
      "source": [
        "r = run_simulation(diaUno)\n",
        "r2 = run_simulation(diaDos)\n",
        "print(r)"
      ],
      "metadata": {
        "colab": {
          "base_uri": "https://localhost:8080/"
        },
        "id": "Y4hK_en4N947",
        "outputId": "b3d27b6a-c195-448e-b3ab-88ecb556d000"
      },
      "execution_count": 307,
      "outputs": [
        {
          "output_type": "stream",
          "name": "stdout",
          "text": [
            "Time\n",
            "0.000000      463\n",
            "53.000000     463\n",
            "53.162227     462\n",
            "53.324454     461\n",
            "53.486681     460\n",
            "             ... \n",
            "203.060125      0\n",
            "203.222352      0\n",
            "211.222352      0\n",
            "206.222352      0\n",
            "209.222352      0\n",
            "Name: Quantity, Length: 932, dtype: int64\n"
          ]
        }
      ]
    },
    {
      "cell_type": "code",
      "source": [
        "r.plot(color='green', label='Dia 1', style = ':' )\n",
        "r2.plot(color='blue', label='Dia 2', style = ':' )\n",
        "decorate(title= 'Simulación Graduación',\n",
        "             xlabel = 'Tiempo (Minutos)',\n",
        "             ylabel = 'Cantidad De Estudiantes Recibiendo Diplomas' )"
      ],
      "metadata": {
        "colab": {
          "base_uri": "https://localhost:8080/",
          "height": 309
        },
        "id": "b2WuXw7FPq2n",
        "outputId": "50481189-0336-4fdf-ee13-f4b10a9122c2"
      },
      "execution_count": 308,
      "outputs": [
        {
          "output_type": "display_data",
          "data": {
            "text/plain": [
              "<Figure size 450x300 with 1 Axes>"
            ],
            "image/png": "[encoded data removed]"
          },
          "metadata": {}
        }
      ]
    },
    {
      "cell_type": "code",
      "source": [
        "def minutos_hora(x):\n",
        "  import math\n",
        "  conversion = round(x.index[-1] / 60, 2)\n",
        "  parte_decimal, parte_entera = math.modf(conversion)\n",
        "\n",
        "  return \"Horas: \" + str(int(parte_entera)) + \"\\tMinutos: \" + str(int(parte_decimal * 100))"
      ],
      "metadata": {
        "id": "w87N0tTxYNU4"
      },
      "execution_count": 309,
      "outputs": []
    },
    {
      "cell_type": "code",
      "source": [
        "print(\"Duración graduación día 1 - \" + minutos_hora(r))\n",
        "print(\"Duración graduación día 2 - \" + minutos_hora(r2))"
      ],
      "metadata": {
        "colab": {
          "base_uri": "https://localhost:8080/"
        },
        "id": "X2DMXgXIbWUo",
        "outputId": "c1dd8977-410b-4a1d-b9dc-c4c4125ed7a5"
      },
      "execution_count": 310,
      "outputs": [
        {
          "output_type": "stream",
          "name": "stdout",
          "text": [
            "Duración graduación día 1 - Horas: 3\tMinutos: 49\n",
            "Duración graduación día 2 - Horas: 2\tMinutos: 39\n"
          ]
        }
      ]
    }
  ]
}