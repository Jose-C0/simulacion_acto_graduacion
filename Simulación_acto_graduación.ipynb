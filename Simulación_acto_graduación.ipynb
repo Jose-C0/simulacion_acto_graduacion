{
  "nbformat": 4,
  "nbformat_minor": 0,
  "metadata": {
    "colab": {
      "provenance": [],
      "collapsed_sections": [
        "mYVzFxj3OuCJ"
      ]
    },
    "kernelspec": {
      "name": "python3",
      "display_name": "Python 3"
    },
    "language_info": {
      "name": "python"
    }
  },
  "cells": [
    {
      "cell_type": "markdown",
      "source": [
        "# Simulación acto graduación\n"
      ],
      "metadata": {
        "id": "NkTnlV4Esu0l"
      }
    },
    {
      "cell_type": "markdown",
      "source": [
        "\n",
        "\n",
        "Listado de las personas que van a desfilar,\n",
        "\n",
        "tiempos,\n",
        "\n",
        "asiento,\n",
        "\n",
        "si no va la persona,\n",
        "\n",
        "tiempo total de la graduación, etc..\n",
        "\n",
        "\n"
      ],
      "metadata": {
        "id": "KKdAZOSDsk2e"
      }
    },
    {
      "cell_type": "markdown",
      "source": [
        "> # Importar libreria"
      ],
      "metadata": {
        "id": "mYVzFxj3OuCJ"
      }
    },
    {
      "cell_type": "code",
      "source": [
        "# install Pint if necessary\n",
        "try:\n",
        "    import pint\n",
        "except ImportError:\n",
        "    !pip install pint\n",
        "\n",
        "# download modsim.py if necessary\n",
        "from os.path import basename, exists\n",
        "\n",
        "def download(url):\n",
        "    filename = basename(url)\n",
        "    if not exists(filename):\n",
        "        from urllib.request import urlretrieve\n",
        "        local, _ = urlretrieve(url, filename)\n",
        "        print('Downloaded ' + local)\n",
        "download('https://raw.githubusercontent.com/AllenDowney/' +\n",
        "         'ModSimPy/master/modsim.py')\n"
      ],
      "metadata": {
        "id": "g7C3UepmzjFE",
        "colab": {
          "base_uri": "https://localhost:8080/"
        },
        "outputId": "9441a210-3709-4fc7-b3fd-ef759c91796f"
      },
      "execution_count": 1,
      "outputs": [
        {
          "output_type": "stream",
          "name": "stdout",
          "text": [
            "Looking in indexes: https://pypi.org/simple, https://us-python.pkg.dev/colab-wheels/public/simple/\n",
            "Collecting pint\n",
            "  Downloading Pint-0.22-py3-none-any.whl (294 kB)\n",
            "\u001b[2K     \u001b[90m━━━━━━━━━━━━━━━━━━━━━━━━━━━━━━━━━━━━━━\u001b[0m \u001b[32m294.0/294.0 kB\u001b[0m \u001b[31m10.8 MB/s\u001b[0m eta \u001b[36m0:00:00\u001b[0m\n",
            "\u001b[?25hRequirement already satisfied: typing-extensions in /usr/local/lib/python3.10/dist-packages (from pint) (4.6.3)\n",
            "Installing collected packages: pint\n",
            "Successfully installed pint-0.22\n",
            "Downloaded modsim.py\n"
          ]
        }
      ]
    },
    {
      "cell_type": "code",
      "source": [
        "# import functions from modsim\n",
        "from modsim import *\n",
        "#import random\n",
        "import random as r\n",
        "\n",
        "from numpy import *"
      ],
      "metadata": {
        "id": "v9vyiWY6dK4g"
      },
      "execution_count": 2,
      "outputs": []
    },
    {
      "cell_type": "markdown",
      "source": [
        "> # Código\n",
        "---"
      ],
      "metadata": {
        "id": "TAUHJ3YQBQYI"
      }
    },
    {
      "cell_type": "code",
      "source": [
        "poblacionEst = r.randint(500,801)"
      ],
      "metadata": {
        "id": "RxGCjeBpQ4DC"
      },
      "execution_count": 3,
      "outputs": []
    },
    {
      "cell_type": "code",
      "source": [
        "import random as r"
      ],
      "metadata": {
        "id": "bW3fNCFWRz_b"
      },
      "execution_count": 4,
      "outputs": []
    },
    {
      "cell_type": "code",
      "source": [
        "system = System(tiempo_total = 0,\n",
        "                poblacion = int(poblacionEst - poblacionEst * 0.02)\n",
        "                )\n",
        "\n",
        "print(system.poblacion)"
      ],
      "metadata": {
        "colab": {
          "base_uri": "https://localhost:8080/"
        },
        "id": "Xe-vbTkTBlve",
        "outputId": "993cebc5-f5f3-4d00-e067-3bc7939e841d"
      },
      "execution_count": 5,
      "outputs": [
        {
          "output_type": "stream",
          "name": "stdout",
          "text": [
            "781\n"
          ]
        }
      ]
    },
    {
      "cell_type": "code",
      "source": [
        "t_total = system.tiempo_total"
      ],
      "metadata": {
        "id": "46VInvVoc4ry"
      },
      "execution_count": 6,
      "outputs": []
    },
    {
      "cell_type": "code",
      "source": [
        "diaUno = round(system.poblacion * 0.45)\n",
        "diaDos = round(system.poblacion * 0.55)\n",
        "print(diaUno, diaDos)"
      ],
      "metadata": {
        "colab": {
          "base_uri": "https://localhost:8080/"
        },
        "id": "m4ahgE7XdEks",
        "outputId": "3aebfd97-8309-4853-f8c2-1a89f7fa83dd"
      },
      "execution_count": 7,
      "outputs": [
        {
          "output_type": "stream",
          "name": "stdout",
          "text": [
            "351 430\n"
          ]
        }
      ]
    },
    {
      "cell_type": "code",
      "source": [
        "def varEstado():\n",
        "  import random as r\n",
        "  state = State(apertura = r.randint(10, 15), desfile_autoridades = r.randint(4, 11),\n",
        "                himnos = r.randint(6, 8), rectoria_palabras = r.randint(20, 40),\n",
        "                juramento = 2,\n",
        "                discurso_egresados = r.randint(5,8),\n",
        "                himnoUnphu = 3,\n",
        "                salida = r.randint(6, 11)\n",
        "                )\n",
        "  return state"
      ],
      "metadata": {
        "id": "bQtHPiRwfF4T"
      },
      "execution_count": 8,
      "outputs": []
    },
    {
      "cell_type": "code",
      "source": [
        "def varEntrega():\n",
        "  import random as r\n",
        "  state = State(entregaDiplomas = r.uniform(0.03, 0.30),\n",
        "                premios_entregas = r.randint(15, 21)\n",
        "                )\n",
        "  return state"
      ],
      "metadata": {
        "id": "iUwKWpZa0PXz"
      },
      "execution_count": 9,
      "outputs": []
    },
    {
      "cell_type": "code",
      "source": [
        "def run_simulation(poblacion):\n",
        "  s = varEstado()\n",
        "  z = varEntrega()\n",
        "  faseInicial = s.apertura + s.desfile_autoridades + s.himnos + s.rectoria_palabras\n",
        "\n",
        "  results = TimeSeries()\n",
        "  results[t_total] = poblacion\n",
        "  results[faseInicial] = poblacion\n",
        "\n",
        "  count = 0\n",
        "  i = faseInicial\n",
        "  graduadosFinal = poblacion\n",
        "\n",
        "  while count < poblacion:\n",
        "    i += z.entregaDiplomas\n",
        "    graduadosFinal -= 1\n",
        "    results[i] = graduadosFinal\n",
        "    count += 1\n",
        "\n",
        "  results[i + s.juramento] = 0\n",
        "\n",
        "  import random as r\n",
        "  count = 0\n",
        "  p0 = poblacion * r.uniform(0.05, 0.08)\n",
        "\n",
        "  while count < poblacion:\n",
        "    i += z.entregaDiplomas\n",
        "    p0 -= 1\n",
        "    results[i] = 0\n",
        "    count += 1\n",
        "\n",
        "  results[i + s.discurso_egresados] = graduadosFinal\n",
        "  results[i + s.himnoUnphu] = graduadosFinal\n",
        "  results[i + s.salida ] = graduadosFinal\n",
        "\n",
        "  return round(results)"
      ],
      "metadata": {
        "id": "S4jF2WGRebAp"
      },
      "execution_count": 10,
      "outputs": []
    },
    {
      "cell_type": "code",
      "source": [
        "r = run_simulation(diaUno)\n",
        "r2 = run_simulation(diaDos)\n",
        "print(r) #135.20      0"
      ],
      "metadata": {
        "colab": {
          "base_uri": "https://localhost:8080/"
        },
        "id": "Y4hK_en4N947",
        "outputId": "19ce351d-cf8e-4cfd-bfc3-f68cb0ac67f5"
      },
      "execution_count": 11,
      "outputs": [
        {
          "output_type": "stream",
          "name": "stdout",
          "text": [
            "Time\n",
            "0.000000      351\n",
            "47.000000     351\n",
            "47.242071     350\n",
            "47.484143     349\n",
            "47.726214     348\n",
            "             ... \n",
            "216.692091      0\n",
            "216.934163      0\n",
            "223.934163      0\n",
            "219.934163      0\n",
            "222.934163      0\n",
            "Name: Quantity, Length: 708, dtype: int64\n"
          ]
        }
      ]
    },
    {
      "cell_type": "code",
      "source": [
        "r.plot(color='green', label='Dia 1', style = ':' )\n",
        "r2.plot(color='blue', label='Dia 2', style = ':' )\n",
        "decorate(title= 'Simulacion Graduacion',\n",
        "             xlabel = 'Tiempo (Minutos)',\n",
        "             ylabel = 'Cantidad Estudiantes Recibiendo Diplomas' )"
      ],
      "metadata": {
        "colab": {
          "base_uri": "https://localhost:8080/",
          "height": 309
        },
        "id": "b2WuXw7FPq2n",
        "outputId": "9e22340e-9059-4aab-b868-917d50c7a549"
      },
      "execution_count": 12,
      "outputs": [
        {
          "output_type": "display_data",
          "data": {
            "text/plain": [
              "<Figure size 450x300 with 1 Axes>"
            ],
            "image/png": "[encoded data removed]"
          },
          "metadata": {}
        }
      ]
    },
    {
      "cell_type": "code",
      "source": [
        "m_h = lambda x:  round(x.index[-1] / 60, 2)"
      ],
      "metadata": {
        "id": "w87N0tTxYNU4"
      },
      "execution_count": 13,
      "outputs": []
    },
    {
      "cell_type": "code",
      "source": [
        "print(\"Graduacion dia 1: \", m_h(r), \" Hora\")\n",
        "print(\"Graduacion dia 2: \", m_h(r2), \" Hora\")"
      ],
      "metadata": {
        "colab": {
          "base_uri": "https://localhost:8080/"
        },
        "id": "tjs4JyBuKTuW",
        "outputId": "1670c958-74b7-4c8a-8459-f7088cc5493b"
      },
      "execution_count": 14,
      "outputs": [
        {
          "output_type": "stream",
          "name": "stdout",
          "text": [
            "Graduacion dia 1:  3.72  Hora\n",
            "Graduacion dia 2:  1.73  Hora\n"
          ]
        }
      ]
    }
  ]
}